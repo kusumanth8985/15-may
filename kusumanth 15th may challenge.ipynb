{
 "cells": [
  {
   "cell_type": "markdown",
   "id": "b1587f2d",
   "metadata": {},
   "source": [
    "# ans 1"
   ]
  },
  {
   "cell_type": "code",
   "execution_count": 1,
   "id": "ea6f7fb1",
   "metadata": {},
   "outputs": [],
   "source": [
    "s='uafgsauhsuakhkgkaugsaughcsaichsaliaishjcbalssbchsgsuhflufufhfyfkyfyfyfhflufyf'"
   ]
  },
  {
   "cell_type": "code",
   "execution_count": 2,
   "id": "1303a052",
   "metadata": {},
   "outputs": [
    {
     "data": {
      "text/plain": [
       "'uguuhkgucisisclbsulufkyfly'"
      ]
     },
     "execution_count": 2,
     "metadata": {},
     "output_type": "execute_result"
    }
   ],
   "source": [
    "s[0:300:3]"
   ]
  },
  {
   "cell_type": "markdown",
   "id": "8416b182",
   "metadata": {},
   "source": [
    "# ans2"
   ]
  },
  {
   "cell_type": "code",
   "execution_count": 3,
   "id": "f5b95983",
   "metadata": {},
   "outputs": [],
   "source": [
    "s1=\"kusumanth\""
   ]
  },
  {
   "cell_type": "code",
   "execution_count": 6,
   "id": "812513e5",
   "metadata": {},
   "outputs": [
    {
     "data": {
      "text/plain": [
       "'htnamusuk'"
      ]
     },
     "execution_count": 6,
     "metadata": {},
     "output_type": "execute_result"
    }
   ],
   "source": [
    "s1[-1:-10:-1]"
   ]
  },
  {
   "cell_type": "markdown",
   "id": "e727eaa1",
   "metadata": {},
   "source": [
    "# ans3"
   ]
  },
  {
   "cell_type": "code",
   "execution_count": 14,
   "id": "3f5e751e",
   "metadata": {},
   "outputs": [],
   "source": [
    "s2='kusumanth reddy'"
   ]
  },
  {
   "cell_type": "code",
   "execution_count": 15,
   "id": "9aa84c0c",
   "metadata": {},
   "outputs": [
    {
     "data": {
      "text/plain": [
       "'KUSUMANTH REDDY'"
      ]
     },
     "execution_count": 15,
     "metadata": {},
     "output_type": "execute_result"
    }
   ],
   "source": [
    "s2.upper()"
   ]
  },
  {
   "cell_type": "code",
   "execution_count": 16,
   "id": "1cd38967",
   "metadata": {},
   "outputs": [
    {
     "data": {
      "text/plain": [
       "['kusumanth', 'reddy']"
      ]
     },
     "execution_count": 16,
     "metadata": {},
     "output_type": "execute_result"
    }
   ],
   "source": [
    "s2.split()"
   ]
  },
  {
   "cell_type": "markdown",
   "id": "992b9ea6",
   "metadata": {},
   "source": [
    "# ans4"
   ]
  },
  {
   "cell_type": "code",
   "execution_count": 17,
   "id": "5d3ffd26",
   "metadata": {},
   "outputs": [],
   "source": [
    "s3='KUSMANTH'"
   ]
  },
  {
   "cell_type": "code",
   "execution_count": 18,
   "id": "ffa96fb8",
   "metadata": {},
   "outputs": [
    {
     "data": {
      "text/plain": [
       "'kusmanth'"
      ]
     },
     "execution_count": 18,
     "metadata": {},
     "output_type": "execute_result"
    }
   ],
   "source": [
    "s3.lower()"
   ]
  },
  {
   "cell_type": "code",
   "execution_count": 19,
   "id": "67f2a8ef",
   "metadata": {},
   "outputs": [],
   "source": [
    "s3=s3.lower()"
   ]
  },
  {
   "cell_type": "code",
   "execution_count": 20,
   "id": "0e011bab",
   "metadata": {},
   "outputs": [
    {
     "data": {
      "text/plain": [
       "'kusmanth'"
      ]
     },
     "execution_count": 20,
     "metadata": {},
     "output_type": "execute_result"
    }
   ],
   "source": [
    "s3"
   ]
  },
  {
   "cell_type": "markdown",
   "id": "73997fde",
   "metadata": {},
   "source": [
    "# ans5"
   ]
  },
  {
   "cell_type": "code",
   "execution_count": 21,
   "id": "17ad6d21",
   "metadata": {},
   "outputs": [],
   "source": [
    "s4='my name is kusumanth reddy'"
   ]
  },
  {
   "cell_type": "code",
   "execution_count": 22,
   "id": "7ef38934",
   "metadata": {},
   "outputs": [
    {
     "data": {
      "text/plain": [
       "'My name is kusumanth reddy'"
      ]
     },
     "execution_count": 22,
     "metadata": {},
     "output_type": "execute_result"
    }
   ],
   "source": [
    "s4.capitalize()"
   ]
  },
  {
   "cell_type": "markdown",
   "id": "12fc1044",
   "metadata": {},
   "source": [
    "# ans6"
   ]
  },
  {
   "cell_type": "markdown",
   "id": "cde27e00",
   "metadata": {},
   "source": [
    "isalnum() will show true if only all  charecter are  number or alphabetic  present in the string where as isalha() will show true if all the charecter in the string are alhabetic"
   ]
  },
  {
   "cell_type": "markdown",
   "id": "199992bd",
   "metadata": {},
   "source": [
    "# ans7"
   ]
  },
  {
   "cell_type": "code",
   "execution_count": 23,
   "id": "4f86cf6c",
   "metadata": {},
   "outputs": [],
   "source": [
    "s4='kusumanth\\treddy'"
   ]
  },
  {
   "cell_type": "code",
   "execution_count": 24,
   "id": "873f7202",
   "metadata": {},
   "outputs": [
    {
     "data": {
      "text/plain": [
       "'kusumanth       reddy'"
      ]
     },
     "execution_count": 24,
     "metadata": {},
     "output_type": "execute_result"
    }
   ],
   "source": [
    "s4.expandtabs()"
   ]
  },
  {
   "cell_type": "markdown",
   "id": "dac6d8b7",
   "metadata": {},
   "source": [
    "\n",
    "# ans8"
   ]
  },
  {
   "cell_type": "code",
   "execution_count": 25,
   "id": "28b7b883",
   "metadata": {},
   "outputs": [],
   "source": [
    "s5='    kusumanth  reddy    '"
   ]
  },
  {
   "cell_type": "code",
   "execution_count": 26,
   "id": "fe6e539e",
   "metadata": {},
   "outputs": [
    {
     "data": {
      "text/plain": [
       "'kusumanth  reddy    '"
      ]
     },
     "execution_count": 26,
     "metadata": {},
     "output_type": "execute_result"
    }
   ],
   "source": [
    "s5.lstrip()"
   ]
  },
  {
   "cell_type": "code",
   "execution_count": 27,
   "id": "4d9fb1c9",
   "metadata": {},
   "outputs": [
    {
     "data": {
      "text/plain": [
       "'kusumanth  reddy'"
      ]
     },
     "execution_count": 27,
     "metadata": {},
     "output_type": "execute_result"
    }
   ],
   "source": [
    "s5.strip()"
   ]
  },
  {
   "cell_type": "code",
   "execution_count": 28,
   "id": "7421859f",
   "metadata": {},
   "outputs": [
    {
     "data": {
      "text/plain": [
       "'    kusumanth  reddy'"
      ]
     },
     "execution_count": 28,
     "metadata": {},
     "output_type": "execute_result"
    }
   ],
   "source": [
    "s5.rstrip()"
   ]
  },
  {
   "cell_type": "markdown",
   "id": "8c1a0a4d",
   "metadata": {},
   "source": [
    "# ans9"
   ]
  },
  {
   "cell_type": "code",
   "execution_count": 29,
   "id": "e2f9ef44",
   "metadata": {},
   "outputs": [],
   "source": [
    "s9='kusumanth'"
   ]
  },
  {
   "cell_type": "code",
   "execution_count": 32,
   "id": "cd1fb86d",
   "metadata": {},
   "outputs": [],
   "source": [
    "s10='uusumanth'"
   ]
  },
  {
   "cell_type": "code",
   "execution_count": 33,
   "id": "19164d63",
   "metadata": {},
   "outputs": [],
   "source": [
    "s9=s10"
   ]
  },
  {
   "cell_type": "code",
   "execution_count": 34,
   "id": "b594172e",
   "metadata": {},
   "outputs": [
    {
     "data": {
      "text/plain": [
       "'uusumanth'"
      ]
     },
     "execution_count": 34,
     "metadata": {},
     "output_type": "execute_result"
    }
   ],
   "source": [
    "s9"
   ]
  },
  {
   "cell_type": "markdown",
   "id": "6b5b9939",
   "metadata": {},
   "source": [
    "# ans10"
   ]
  },
  {
   "cell_type": "code",
   "execution_count": 35,
   "id": "6c9d18a4",
   "metadata": {},
   "outputs": [],
   "source": [
    "s11='pr'"
   ]
  },
  {
   "cell_type": "code",
   "execution_count": 51,
   "id": "40ebef0c",
   "metadata": {},
   "outputs": [
    {
     "data": {
      "text/plain": [
       "'    pr    '"
      ]
     },
     "execution_count": 51,
     "metadata": {},
     "output_type": "execute_result"
    }
   ],
   "source": [
    "s11.center(10,\" \")"
   ]
  },
  {
   "cell_type": "markdown",
   "id": "14264334",
   "metadata": {},
   "source": [
    "IT will keep the given  string in the center of the given value and charecter"
   ]
  },
  {
   "cell_type": "markdown",
   "id": "49aa79c0",
   "metadata": {},
   "source": [
    "# ans11"
   ]
  },
  {
   "cell_type": "markdown",
   "id": "7f820448",
   "metadata": {},
   "source": [
    " Interpreter will work on the program one step after other till the end of the program and produce output  mulipule times for one program so after evry step so we can correct our mistakes fastly and easily it will stop that one step if any error occurs in it and shows us where that error occured"
   ]
  },
  {
   "cell_type": "markdown",
   "id": "d77cfde9",
   "metadata": {},
   "source": [
    " compiler will work on the program all steps at once and produced output only once for the program and any error happen also it will continue the program and produce the error at the end all at once so it will get hard to find where mistake has happen and rectife it"
   ]
  },
  {
   "cell_type": "markdown",
   "id": "cb95da45",
   "metadata": {},
   "source": [
    "# ans12"
   ]
  },
  {
   "cell_type": "markdown",
   "id": "e52bb731",
   "metadata": {},
   "source": [
    "python is an interpreter  because it stops after the first mistake has happen then only it will show the next mistake"
   ]
  },
  {
   "cell_type": "code",
   "execution_count": 66,
   "id": "f593b645",
   "metadata": {},
   "outputs": [
    {
     "ename": "SyntaxError",
     "evalue": "invalid syntax (706907807.py, line 1)",
     "output_type": "error",
     "traceback": [
      "\u001b[1;36m  Input \u001b[1;32mIn [66]\u001b[1;36m\u001b[0m\n\u001b[1;33m    s56=;\"kus1usdks'\u001b[0m\n\u001b[1;37m        ^\u001b[0m\n\u001b[1;31mSyntaxError\u001b[0m\u001b[1;31m:\u001b[0m invalid syntax\n"
     ]
    }
   ],
   "source": [
    "s56=;\"kus1usdks'"
   ]
  },
  {
   "cell_type": "code",
   "execution_count": 67,
   "id": "598bf0cd",
   "metadata": {},
   "outputs": [
    {
     "ename": "SyntaxError",
     "evalue": "EOL while scanning string literal (385258162.py, line 1)",
     "output_type": "error",
     "traceback": [
      "\u001b[1;36m  Input \u001b[1;32mIn [67]\u001b[1;36m\u001b[0m\n\u001b[1;33m    s56=\"kus1usdks'\u001b[0m\n\u001b[1;37m                   ^\u001b[0m\n\u001b[1;31mSyntaxError\u001b[0m\u001b[1;31m:\u001b[0m EOL while scanning string literal\n"
     ]
    }
   ],
   "source": [
    "s56=\"kus1usdks'"
   ]
  },
  {
   "cell_type": "markdown",
   "id": "62a57b88",
   "metadata": {},
   "source": [
    "# ans13"
   ]
  },
  {
   "cell_type": "markdown",
   "id": "eed6ec8a",
   "metadata": {},
   "source": [
    "python can be use any where u want dependes upon the user whether he wants this type of tool"
   ]
  },
  {
   "cell_type": "code",
   "execution_count": null,
   "id": "e2eb25b0",
   "metadata": {},
   "outputs": [],
   "source": []
  }
 ],
 "metadata": {
  "kernelspec": {
   "display_name": "Python 3 (ipykernel)",
   "language": "python",
   "name": "python3"
  },
  "language_info": {
   "codemirror_mode": {
    "name": "ipython",
    "version": 3
   },
   "file_extension": ".py",
   "mimetype": "text/x-python",
   "name": "python",
   "nbconvert_exporter": "python",
   "pygments_lexer": "ipython3",
   "version": "3.9.12"
  }
 },
 "nbformat": 4,
 "nbformat_minor": 5
}
